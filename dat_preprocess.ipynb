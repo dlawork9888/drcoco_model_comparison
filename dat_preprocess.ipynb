{
 "cells": [
  {
   "cell_type": "markdown",
   "id": "b793a879-0d6c-41ac-b27c-6ffa92109990",
   "metadata": {},
   "source": [
    "# Data Preprocessing"
   ]
  },
  {
   "cell_type": "code",
   "execution_count": 1,
   "id": "9ce66138-1f07-44ba-9dd6-342c0d83d06e",
   "metadata": {},
   "outputs": [],
   "source": [
    "import pandas as pd\n",
    "import numpy as np"
   ]
  },
  {
   "cell_type": "markdown",
   "id": "2793d9d2-b630-4644-8634-9ab5d2eca1c2",
   "metadata": {},
   "source": [
    "## Data Refining"
   ]
  },
  {
   "cell_type": "code",
   "execution_count": 2,
   "id": "5f734a81-4555-48d8-a470-14fad5480b04",
   "metadata": {},
   "outputs": [],
   "source": [
    "# audio result 읽기\n",
    "audio_result_df = pd.read_csv('audio_result.csv')\n",
    "# 읽어온 명시적 인덱스 열 drop\n",
    "audio_result_df = audio_result_df.drop(['Unnamed: 0'], axis = 1)\n",
    "# file name 수정\n",
    "audio_result_df['file'] = audio_result_df['file'] + '.mp4'"
   ]
  },
  {
   "cell_type": "code",
   "execution_count": 3,
   "id": "22b219ec-2482-446e-a3c3-e268bd8b25ec",
   "metadata": {},
   "outputs": [
    {
     "data": {
      "text/html": [
       "<div>\n",
       "<style scoped>\n",
       "    .dataframe tbody tr th:only-of-type {\n",
       "        vertical-align: middle;\n",
       "    }\n",
       "\n",
       "    .dataframe tbody tr th {\n",
       "        vertical-align: top;\n",
       "    }\n",
       "\n",
       "    .dataframe thead th {\n",
       "        text-align: right;\n",
       "    }\n",
       "</style>\n",
       "<table border=\"1\" class=\"dataframe\">\n",
       "  <thead>\n",
       "    <tr style=\"text-align: right;\">\n",
       "      <th></th>\n",
       "      <th>file</th>\n",
       "      <th>Silence</th>\n",
       "      <th>Baby laughter</th>\n",
       "      <th>Baby cry, infant cry</th>\n",
       "    </tr>\n",
       "  </thead>\n",
       "  <tbody>\n",
       "    <tr>\n",
       "      <th>0</th>\n",
       "      <td>v12_s-1.mp4</td>\n",
       "      <td>0.148438</td>\n",
       "      <td>0.0</td>\n",
       "      <td>0.0</td>\n",
       "    </tr>\n",
       "    <tr>\n",
       "      <th>1</th>\n",
       "      <td>v12_s-10.mp4</td>\n",
       "      <td>0.109375</td>\n",
       "      <td>0.0</td>\n",
       "      <td>0.0</td>\n",
       "    </tr>\n",
       "    <tr>\n",
       "      <th>2</th>\n",
       "      <td>v12_s-11.mp4</td>\n",
       "      <td>0.109375</td>\n",
       "      <td>0.0</td>\n",
       "      <td>0.0</td>\n",
       "    </tr>\n",
       "    <tr>\n",
       "      <th>3</th>\n",
       "      <td>v12_s-12.mp4</td>\n",
       "      <td>0.109375</td>\n",
       "      <td>0.0</td>\n",
       "      <td>0.0</td>\n",
       "    </tr>\n",
       "    <tr>\n",
       "      <th>4</th>\n",
       "      <td>v12_s-13.mp4</td>\n",
       "      <td>0.109375</td>\n",
       "      <td>0.0</td>\n",
       "      <td>0.0</td>\n",
       "    </tr>\n",
       "    <tr>\n",
       "      <th>...</th>\n",
       "      <td>...</td>\n",
       "      <td>...</td>\n",
       "      <td>...</td>\n",
       "      <td>...</td>\n",
       "    </tr>\n",
       "    <tr>\n",
       "      <th>545</th>\n",
       "      <td>v97_ns-5.mp4</td>\n",
       "      <td>0.148438</td>\n",
       "      <td>0.0</td>\n",
       "      <td>0.0</td>\n",
       "    </tr>\n",
       "    <tr>\n",
       "      <th>546</th>\n",
       "      <td>v97_ns-6.mp4</td>\n",
       "      <td>0.148438</td>\n",
       "      <td>0.0</td>\n",
       "      <td>0.0</td>\n",
       "    </tr>\n",
       "    <tr>\n",
       "      <th>547</th>\n",
       "      <td>v97_ns-7.mp4</td>\n",
       "      <td>0.148438</td>\n",
       "      <td>0.0</td>\n",
       "      <td>0.0</td>\n",
       "    </tr>\n",
       "    <tr>\n",
       "      <th>548</th>\n",
       "      <td>v97_ns-8.mp4</td>\n",
       "      <td>0.148438</td>\n",
       "      <td>0.0</td>\n",
       "      <td>0.0</td>\n",
       "    </tr>\n",
       "    <tr>\n",
       "      <th>549</th>\n",
       "      <td>v97_ns-9.mp4</td>\n",
       "      <td>0.148438</td>\n",
       "      <td>0.0</td>\n",
       "      <td>0.0</td>\n",
       "    </tr>\n",
       "  </tbody>\n",
       "</table>\n",
       "<p>550 rows × 4 columns</p>\n",
       "</div>"
      ],
      "text/plain": [
       "             file   Silence  Baby laughter  Baby cry, infant cry\n",
       "0     v12_s-1.mp4  0.148438            0.0                   0.0\n",
       "1    v12_s-10.mp4  0.109375            0.0                   0.0\n",
       "2    v12_s-11.mp4  0.109375            0.0                   0.0\n",
       "3    v12_s-12.mp4  0.109375            0.0                   0.0\n",
       "4    v12_s-13.mp4  0.109375            0.0                   0.0\n",
       "..            ...       ...            ...                   ...\n",
       "545  v97_ns-5.mp4  0.148438            0.0                   0.0\n",
       "546  v97_ns-6.mp4  0.148438            0.0                   0.0\n",
       "547  v97_ns-7.mp4  0.148438            0.0                   0.0\n",
       "548  v97_ns-8.mp4  0.148438            0.0                   0.0\n",
       "549  v97_ns-9.mp4  0.148438            0.0                   0.0\n",
       "\n",
       "[550 rows x 4 columns]"
      ]
     },
     "execution_count": 3,
     "metadata": {},
     "output_type": "execute_result"
    }
   ],
   "source": [
    "audio_result_df"
   ]
  },
  {
   "cell_type": "code",
   "execution_count": 4,
   "id": "8f54275c-13fc-4bad-93db-735614d0694e",
   "metadata": {},
   "outputs": [],
   "source": [
    "# rebalanced_scores 읽기\n",
    "rebalanced_scores_df = pd.read_csv('rebalanced_scores.csv')\n",
    "# 필요한 col만 뽑기\n",
    "rebalanced_scores_df = rebalanced_scores_df[['video_file', 'blink_score', 'movement_score', 'movement_norm']]\n",
    "# null 행 제거\n",
    "rebalanced_scores_df = rebalanced_scores_df.dropna()"
   ]
  },
  {
   "cell_type": "code",
   "execution_count": 5,
   "id": "be48b17a-a586-4d0a-8b99-f7945ddc9495",
   "metadata": {},
   "outputs": [
    {
     "data": {
      "text/html": [
       "<div>\n",
       "<style scoped>\n",
       "    .dataframe tbody tr th:only-of-type {\n",
       "        vertical-align: middle;\n",
       "    }\n",
       "\n",
       "    .dataframe tbody tr th {\n",
       "        vertical-align: top;\n",
       "    }\n",
       "\n",
       "    .dataframe thead th {\n",
       "        text-align: right;\n",
       "    }\n",
       "</style>\n",
       "<table border=\"1\" class=\"dataframe\">\n",
       "  <thead>\n",
       "    <tr style=\"text-align: right;\">\n",
       "      <th></th>\n",
       "      <th>video_file</th>\n",
       "      <th>blink_score</th>\n",
       "      <th>movement_score</th>\n",
       "      <th>movement_norm</th>\n",
       "    </tr>\n",
       "  </thead>\n",
       "  <tbody>\n",
       "    <tr>\n",
       "      <th>0</th>\n",
       "      <td>v12_s-1.mp4</td>\n",
       "      <td>0.631505</td>\n",
       "      <td>0.022537</td>\n",
       "      <td>0.168826</td>\n",
       "    </tr>\n",
       "    <tr>\n",
       "      <th>1</th>\n",
       "      <td>v12_s-10.mp4</td>\n",
       "      <td>0.538419</td>\n",
       "      <td>0.037090</td>\n",
       "      <td>0.442904</td>\n",
       "    </tr>\n",
       "    <tr>\n",
       "      <th>2</th>\n",
       "      <td>v12_s-11.mp4</td>\n",
       "      <td>0.495586</td>\n",
       "      <td>0.017830</td>\n",
       "      <td>0.156351</td>\n",
       "    </tr>\n",
       "    <tr>\n",
       "      <th>3</th>\n",
       "      <td>v12_s-12.mp4</td>\n",
       "      <td>0.504354</td>\n",
       "      <td>0.063563</td>\n",
       "      <td>0.640250</td>\n",
       "    </tr>\n",
       "    <tr>\n",
       "      <th>4</th>\n",
       "      <td>v12_s-13.mp4</td>\n",
       "      <td>0.485364</td>\n",
       "      <td>0.018498</td>\n",
       "      <td>0.187213</td>\n",
       "    </tr>\n",
       "    <tr>\n",
       "      <th>...</th>\n",
       "      <td>...</td>\n",
       "      <td>...</td>\n",
       "      <td>...</td>\n",
       "      <td>...</td>\n",
       "    </tr>\n",
       "    <tr>\n",
       "      <th>566</th>\n",
       "      <td>v87_ns-5.mp4</td>\n",
       "      <td>0.012740</td>\n",
       "      <td>0.001331</td>\n",
       "      <td>0.024984</td>\n",
       "    </tr>\n",
       "    <tr>\n",
       "      <th>567</th>\n",
       "      <td>v87_ns-6.mp4</td>\n",
       "      <td>0.090649</td>\n",
       "      <td>0.002792</td>\n",
       "      <td>0.017828</td>\n",
       "    </tr>\n",
       "    <tr>\n",
       "      <th>568</th>\n",
       "      <td>v87_ns-7.mp4</td>\n",
       "      <td>0.017686</td>\n",
       "      <td>0.004703</td>\n",
       "      <td>0.545787</td>\n",
       "    </tr>\n",
       "    <tr>\n",
       "      <th>569</th>\n",
       "      <td>v87_ns-8.mp4</td>\n",
       "      <td>0.236408</td>\n",
       "      <td>0.000899</td>\n",
       "      <td>0.443880</td>\n",
       "    </tr>\n",
       "    <tr>\n",
       "      <th>570</th>\n",
       "      <td>v87_ns-9.mp4</td>\n",
       "      <td>0.109822</td>\n",
       "      <td>0.002459</td>\n",
       "      <td>1.000000</td>\n",
       "    </tr>\n",
       "  </tbody>\n",
       "</table>\n",
       "<p>567 rows × 4 columns</p>\n",
       "</div>"
      ],
      "text/plain": [
       "       video_file  blink_score  movement_score  movement_norm\n",
       "0     v12_s-1.mp4     0.631505        0.022537       0.168826\n",
       "1    v12_s-10.mp4     0.538419        0.037090       0.442904\n",
       "2    v12_s-11.mp4     0.495586        0.017830       0.156351\n",
       "3    v12_s-12.mp4     0.504354        0.063563       0.640250\n",
       "4    v12_s-13.mp4     0.485364        0.018498       0.187213\n",
       "..            ...          ...             ...            ...\n",
       "566  v87_ns-5.mp4     0.012740        0.001331       0.024984\n",
       "567  v87_ns-6.mp4     0.090649        0.002792       0.017828\n",
       "568  v87_ns-7.mp4     0.017686        0.004703       0.545787\n",
       "569  v87_ns-8.mp4     0.236408        0.000899       0.443880\n",
       "570  v87_ns-9.mp4     0.109822        0.002459       1.000000\n",
       "\n",
       "[567 rows x 4 columns]"
      ]
     },
     "execution_count": 5,
     "metadata": {},
     "output_type": "execute_result"
    }
   ],
   "source": [
    "rebalanced_scores_df"
   ]
  },
  {
   "cell_type": "code",
   "execution_count": 6,
   "id": "048ab60e-8951-4569-ae68-21a250ac056a",
   "metadata": {},
   "outputs": [
    {
     "data": {
      "text/plain": [
       "video_file               0\n",
       "blink_score              0\n",
       "movement_score           0\n",
       "movement_norm            0\n",
       "file                    84\n",
       "Silence                 84\n",
       "Baby laughter           84\n",
       "Baby cry, infant cry    84\n",
       "dtype: int64"
      ]
     },
     "execution_count": 6,
     "metadata": {},
     "output_type": "execute_result"
    }
   ],
   "source": [
    "# left outer join \n",
    "joined_df = pd.merge(rebalanced_scores_df, audio_result_df,\n",
    "                     how='left', left_on='video_file', right_on='file')\n",
    "# null 체크\n",
    "joined_df.isnull().sum()"
   ]
  },
  {
   "cell_type": "code",
   "execution_count": 7,
   "id": "c1d4333e-b731-43c3-8578-5668beb5accd",
   "metadata": {},
   "outputs": [],
   "source": [
    "# null 행 제거\n",
    "joined_df = joined_df.dropna()\n",
    "# 필요없는 col 제거 \n",
    "### movement_norm or movement_score\n",
    "### 우선 norm 제거\n",
    "### file\n",
    "joined_df = joined_df.drop(['movement_norm', 'file'], axis = 1) \n",
    "# 레이블 설정 \n",
    "# is_sleeping \n",
    "# video_file에 ns가 포함되면 0 (안잠)\n",
    "# 아니면 1 (잠)\n",
    "joined_df['is_sleeping'] = joined_df['video_file'].apply(lambda x: 0 if 'ns' in x else 1)"
   ]
  },
  {
   "cell_type": "code",
   "execution_count": 8,
   "id": "b3a5aa97-f9fa-49d2-8980-a8c41d730b2e",
   "metadata": {},
   "outputs": [
    {
     "data": {
      "text/html": [
       "<div>\n",
       "<style scoped>\n",
       "    .dataframe tbody tr th:only-of-type {\n",
       "        vertical-align: middle;\n",
       "    }\n",
       "\n",
       "    .dataframe tbody tr th {\n",
       "        vertical-align: top;\n",
       "    }\n",
       "\n",
       "    .dataframe thead th {\n",
       "        text-align: right;\n",
       "    }\n",
       "</style>\n",
       "<table border=\"1\" class=\"dataframe\">\n",
       "  <thead>\n",
       "    <tr style=\"text-align: right;\">\n",
       "      <th></th>\n",
       "      <th>video_file</th>\n",
       "      <th>blink_score</th>\n",
       "      <th>movement_score</th>\n",
       "      <th>Silence</th>\n",
       "      <th>Baby laughter</th>\n",
       "      <th>Baby cry, infant cry</th>\n",
       "      <th>is_sleeping</th>\n",
       "    </tr>\n",
       "  </thead>\n",
       "  <tbody>\n",
       "    <tr>\n",
       "      <th>0</th>\n",
       "      <td>v12_s-1.mp4</td>\n",
       "      <td>0.631505</td>\n",
       "      <td>0.022537</td>\n",
       "      <td>0.148438</td>\n",
       "      <td>0.0</td>\n",
       "      <td>0.0</td>\n",
       "      <td>1</td>\n",
       "    </tr>\n",
       "    <tr>\n",
       "      <th>1</th>\n",
       "      <td>v12_s-10.mp4</td>\n",
       "      <td>0.538419</td>\n",
       "      <td>0.037090</td>\n",
       "      <td>0.109375</td>\n",
       "      <td>0.0</td>\n",
       "      <td>0.0</td>\n",
       "      <td>1</td>\n",
       "    </tr>\n",
       "    <tr>\n",
       "      <th>2</th>\n",
       "      <td>v12_s-11.mp4</td>\n",
       "      <td>0.495586</td>\n",
       "      <td>0.017830</td>\n",
       "      <td>0.109375</td>\n",
       "      <td>0.0</td>\n",
       "      <td>0.0</td>\n",
       "      <td>1</td>\n",
       "    </tr>\n",
       "    <tr>\n",
       "      <th>3</th>\n",
       "      <td>v12_s-12.mp4</td>\n",
       "      <td>0.504354</td>\n",
       "      <td>0.063563</td>\n",
       "      <td>0.109375</td>\n",
       "      <td>0.0</td>\n",
       "      <td>0.0</td>\n",
       "      <td>1</td>\n",
       "    </tr>\n",
       "    <tr>\n",
       "      <th>4</th>\n",
       "      <td>v12_s-13.mp4</td>\n",
       "      <td>0.485364</td>\n",
       "      <td>0.018498</td>\n",
       "      <td>0.109375</td>\n",
       "      <td>0.0</td>\n",
       "      <td>0.0</td>\n",
       "      <td>1</td>\n",
       "    </tr>\n",
       "    <tr>\n",
       "      <th>...</th>\n",
       "      <td>...</td>\n",
       "      <td>...</td>\n",
       "      <td>...</td>\n",
       "      <td>...</td>\n",
       "      <td>...</td>\n",
       "      <td>...</td>\n",
       "      <td>...</td>\n",
       "    </tr>\n",
       "    <tr>\n",
       "      <th>562</th>\n",
       "      <td>v87_ns-5.mp4</td>\n",
       "      <td>0.012740</td>\n",
       "      <td>0.001331</td>\n",
       "      <td>0.148438</td>\n",
       "      <td>0.0</td>\n",
       "      <td>0.0</td>\n",
       "      <td>0</td>\n",
       "    </tr>\n",
       "    <tr>\n",
       "      <th>563</th>\n",
       "      <td>v87_ns-6.mp4</td>\n",
       "      <td>0.090649</td>\n",
       "      <td>0.002792</td>\n",
       "      <td>0.109375</td>\n",
       "      <td>0.0</td>\n",
       "      <td>0.0</td>\n",
       "      <td>0</td>\n",
       "    </tr>\n",
       "    <tr>\n",
       "      <th>564</th>\n",
       "      <td>v87_ns-7.mp4</td>\n",
       "      <td>0.017686</td>\n",
       "      <td>0.004703</td>\n",
       "      <td>0.199219</td>\n",
       "      <td>0.0</td>\n",
       "      <td>0.0</td>\n",
       "      <td>0</td>\n",
       "    </tr>\n",
       "    <tr>\n",
       "      <th>565</th>\n",
       "      <td>v87_ns-8.mp4</td>\n",
       "      <td>0.236408</td>\n",
       "      <td>0.000899</td>\n",
       "      <td>0.109375</td>\n",
       "      <td>0.0</td>\n",
       "      <td>0.0</td>\n",
       "      <td>0</td>\n",
       "    </tr>\n",
       "    <tr>\n",
       "      <th>566</th>\n",
       "      <td>v87_ns-9.mp4</td>\n",
       "      <td>0.109822</td>\n",
       "      <td>0.002459</td>\n",
       "      <td>0.148438</td>\n",
       "      <td>0.0</td>\n",
       "      <td>0.0</td>\n",
       "      <td>0</td>\n",
       "    </tr>\n",
       "  </tbody>\n",
       "</table>\n",
       "<p>483 rows × 7 columns</p>\n",
       "</div>"
      ],
      "text/plain": [
       "       video_file  blink_score  movement_score   Silence  Baby laughter  \\\n",
       "0     v12_s-1.mp4     0.631505        0.022537  0.148438            0.0   \n",
       "1    v12_s-10.mp4     0.538419        0.037090  0.109375            0.0   \n",
       "2    v12_s-11.mp4     0.495586        0.017830  0.109375            0.0   \n",
       "3    v12_s-12.mp4     0.504354        0.063563  0.109375            0.0   \n",
       "4    v12_s-13.mp4     0.485364        0.018498  0.109375            0.0   \n",
       "..            ...          ...             ...       ...            ...   \n",
       "562  v87_ns-5.mp4     0.012740        0.001331  0.148438            0.0   \n",
       "563  v87_ns-6.mp4     0.090649        0.002792  0.109375            0.0   \n",
       "564  v87_ns-7.mp4     0.017686        0.004703  0.199219            0.0   \n",
       "565  v87_ns-8.mp4     0.236408        0.000899  0.109375            0.0   \n",
       "566  v87_ns-9.mp4     0.109822        0.002459  0.148438            0.0   \n",
       "\n",
       "     Baby cry, infant cry  is_sleeping  \n",
       "0                     0.0            1  \n",
       "1                     0.0            1  \n",
       "2                     0.0            1  \n",
       "3                     0.0            1  \n",
       "4                     0.0            1  \n",
       "..                    ...          ...  \n",
       "562                   0.0            0  \n",
       "563                   0.0            0  \n",
       "564                   0.0            0  \n",
       "565                   0.0            0  \n",
       "566                   0.0            0  \n",
       "\n",
       "[483 rows x 7 columns]"
      ]
     },
     "execution_count": 8,
     "metadata": {},
     "output_type": "execute_result"
    }
   ],
   "source": [
    "joined_df"
   ]
  },
  {
   "cell_type": "code",
   "execution_count": 9,
   "id": "a0731461-45aa-42b6-85e8-84ba371d476c",
   "metadata": {},
   "outputs": [
    {
     "data": {
      "text/plain": [
       "is_sleeping\n",
       "0    420\n",
       "1     63\n",
       "dtype: int64"
      ]
     },
     "execution_count": 9,
     "metadata": {},
     "output_type": "execute_result"
    }
   ],
   "source": [
    "# 레이블 체크\n",
    "joined_df.groupby('is_sleeping').size()"
   ]
  },
  {
   "cell_type": "markdown",
   "id": "7a25d30a-efb0-4912-9d22-6806a55108e5",
   "metadata": {},
   "source": [
    "## OverSampling"
   ]
  },
  {
   "cell_type": "markdown",
   "id": "8e64a4e4-e75e-4a97-b4ea-52e1af140885",
   "metadata": {},
   "source": [
    "### Random OverSampling"
   ]
  },
  {
   "cell_type": "code",
   "execution_count": 10,
   "id": "06d5fc2e-4a38-4a4d-89e3-5c576d2ee1c0",
   "metadata": {},
   "outputs": [],
   "source": [
    "from imblearn.over_sampling import RandomOverSampler\n",
    "\n",
    "oversampler = RandomOverSampler(random_state=42)\n",
    "\n",
    "X = joined_df.drop(['video_file','is_sleeping'], axis=1) # Features, 이름, 레이블 제거\n",
    "y = y = joined_df['is_sleeping'] # label\n",
    "\n",
    "X_resampled, y_resampled = oversampler.fit_resample(X, y)"
   ]
  },
  {
   "cell_type": "code",
   "execution_count": 11,
   "id": "58682434-d443-4efb-bbde-3efe44d6bb82",
   "metadata": {},
   "outputs": [
    {
     "data": {
      "text/plain": [
       "is_sleeping\n",
       "1    420\n",
       "0    420\n",
       "Name: count, dtype: int64"
      ]
     },
     "execution_count": 11,
     "metadata": {},
     "output_type": "execute_result"
    }
   ],
   "source": [
    "y_resampled.value_counts()"
   ]
  },
  {
   "cell_type": "code",
   "execution_count": 12,
   "id": "4e2c6a92-ce4d-4e73-b1e7-806f85ca151c",
   "metadata": {},
   "outputs": [],
   "source": [
    "# 데이터 병함\n",
    "# y에 마지막 차원 추가\n",
    "# 마지막 차원 기준으로 concatenate \n",
    "y_resampled = np.expand_dims(y_resampled, axis = -1)\n",
    "data_random_oversampled = np.concatenate([X_resampled, y_resampled], axis = -1)"
   ]
  },
  {
   "cell_type": "code",
   "execution_count": 13,
   "id": "58227ed8-869a-4e34-9d35-a97f1c0a0846",
   "metadata": {},
   "outputs": [
    {
     "data": {
      "text/plain": [
       "array([[0.63150463, 0.02253711, 0.1484375 , 0.        , 0.        ,\n",
       "        1.        ],\n",
       "       [0.53841867, 0.03708968, 0.109375  , 0.        , 0.        ,\n",
       "        1.        ],\n",
       "       [0.49558617, 0.01783049, 0.109375  , 0.        , 0.        ,\n",
       "        1.        ],\n",
       "       ...,\n",
       "       [0.65134788, 0.00915567, 0.109375  , 0.        , 0.        ,\n",
       "        1.        ],\n",
       "       [0.53189416, 0.00283812, 0.109375  , 0.        , 0.        ,\n",
       "        1.        ],\n",
       "       [0.32650202, 0.00318804, 0.109375  , 0.        , 0.        ,\n",
       "        1.        ]])"
      ]
     },
     "execution_count": 13,
     "metadata": {},
     "output_type": "execute_result"
    }
   ],
   "source": [
    "data_random_oversampled"
   ]
  },
  {
   "cell_type": "code",
   "execution_count": 14,
   "id": "bd569fc7-1621-4fd5-b8b8-943b4cee793a",
   "metadata": {},
   "outputs": [
    {
     "name": "stdout",
     "output_type": "stream",
     "text": [
      "random ver 저장 완료\n"
     ]
    }
   ],
   "source": [
    "# 저장\n",
    "data_random_oversampled = pd.DataFrame(data_random_oversampled)\n",
    "data_random_oversampled.to_csv('data_random_oversampled.csv')\n",
    "print('random ver 저장 완료')"
   ]
  },
  {
   "cell_type": "markdown",
   "id": "f3f6aa20-34ea-4f79-b476-3e4c68d6a563",
   "metadata": {},
   "source": [
    "### SMOTE OverSampling"
   ]
  },
  {
   "cell_type": "code",
   "execution_count": 15,
   "id": "f9b53f32-98ac-4e9f-ada2-2438980024fc",
   "metadata": {},
   "outputs": [
    {
     "name": "stdout",
     "output_type": "stream",
     "text": [
      "레이블 카운트\n",
      "is_sleeping\n",
      "1    420\n",
      "0    420\n",
      "Name: count, dtype: int64\n",
      "smote ver 저장 완료\n"
     ]
    }
   ],
   "source": [
    "from imblearn.over_sampling import SMOTE\n",
    "\n",
    "smote = SMOTE(random_state=42)\n",
    "\n",
    "X = joined_df.drop(['video_file','is_sleeping'], axis=1) # Features, 이름, 레이블 제거\n",
    "y = joined_df['is_sleeping'] # label\n",
    "\n",
    "X_resampled, y_resampled = smote.fit_resample(X, y)\n",
    "\n",
    "print('레이블 카운트')\n",
    "print(y_resampled.value_counts())\n",
    "\n",
    "# 데이터 병함\n",
    "# y에 마지막 차원 추가\n",
    "# 마지막 차원 기준으로 concatenate \n",
    "y_resampled = np.expand_dims(y_resampled, axis = -1)\n",
    "data_smote_oversampled = np.concatenate([X_resampled, y_resampled], axis = -1)\n",
    "# 저장\n",
    "data_smote_oversampled = pd.DataFrame(data_smote_oversampled)\n",
    "data_smote_oversampled.to_csv('data_smote_oversampled.csv')\n",
    "print('smote ver 저장 완료')"
   ]
  },
  {
   "cell_type": "markdown",
   "id": "56701003-cc44-4b73-965c-41b52269505a",
   "metadata": {},
   "source": [
    "### ADASYN OverSampling"
   ]
  },
  {
   "cell_type": "code",
   "execution_count": 16,
   "id": "97f763be-1cf4-4260-8a22-8d941a9b55ac",
   "metadata": {},
   "outputs": [
    {
     "name": "stdout",
     "output_type": "stream",
     "text": [
      "레이블 카운트\n",
      "is_sleeping\n",
      "0    420\n",
      "1    418\n",
      "Name: count, dtype: int64\n",
      "adasyn ver 저장 완료\n"
     ]
    }
   ],
   "source": [
    "from imblearn.over_sampling import ADASYN\n",
    "\n",
    "adasyn = ADASYN(random_state=42)\n",
    "\n",
    "X = joined_df.drop(['video_file','is_sleeping'], axis=1) # Features, 이름, 레이블 제거\n",
    "y = joined_df['is_sleeping'] # label\n",
    "\n",
    "X_resampled, y_resampled = adasyn.fit_resample(X, y)\n",
    "\n",
    "print('레이블 카운트')\n",
    "print(y_resampled.value_counts())\n",
    "\n",
    "# 데이터 병함\n",
    "# y에 마지막 차원 추가\n",
    "# 마지막 차원 기준으로 concatenate \n",
    "y_resampled = np.expand_dims(y_resampled, axis = -1)\n",
    "data_adasyn_oversampled = np.concatenate([X_resampled, y_resampled], axis = -1)\n",
    "# 저장\n",
    "data_adasyn_oversampled = pd.DataFrame(data_adasyn_oversampled)\n",
    "data_adasyn_oversampled.to_csv('data_adasyn_oversampled.csv')\n",
    "print('adasyn ver 저장 완료')"
   ]
  }
 ],
 "metadata": {
  "kernelspec": {
   "display_name": "Python 3 (ipykernel)",
   "language": "python",
   "name": "python3"
  },
  "language_info": {
   "codemirror_mode": {
    "name": "ipython",
    "version": 3
   },
   "file_extension": ".py",
   "mimetype": "text/x-python",
   "name": "python",
   "nbconvert_exporter": "python",
   "pygments_lexer": "ipython3",
   "version": "3.8.10"
  }
 },
 "nbformat": 4,
 "nbformat_minor": 5
}

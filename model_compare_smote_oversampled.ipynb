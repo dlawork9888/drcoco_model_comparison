{
 "cells": [
  {
   "cell_type": "markdown",
   "id": "56e05594-e7eb-4000-b171-768cc9aa8cec",
   "metadata": {},
   "source": [
    "# Dr.CoCo - ML Model Compare - SMOTE OverSampled"
   ]
  },
  {
   "cell_type": "markdown",
   "id": "19775e2f-9269-4b21-8ba8-5bbe97d3a62f",
   "metadata": {},
   "source": [
    "## 데이터 전처리"
   ]
  },
  {
   "cell_type": "code",
   "execution_count": 1,
   "id": "5ecccf21-4b51-4c5c-850c-52d0bacd16f6",
   "metadata": {},
   "outputs": [],
   "source": [
    "import pandas as pd\n",
    "import numpy as np\n",
    "from sklearn.metrics import accuracy_score, precision_score, recall_score, f1_score\n",
    "import joblib"
   ]
  },
  {
   "cell_type": "code",
   "execution_count": 2,
   "id": "1132128f-6806-4554-8c8d-e5f191b2ff23",
   "metadata": {},
   "outputs": [],
   "source": [
    "data_df = pd.read_csv('data_smote_oversampled.csv').drop(['Unnamed: 0'], axis = 1) # 명시적 인덱스 제거"
   ]
  },
  {
   "cell_type": "code",
   "execution_count": 3,
   "id": "b568985f-1d94-4ec4-98fd-e2302a6ae526",
   "metadata": {},
   "outputs": [
    {
     "data": {
      "text/html": [
       "<div>\n",
       "<style scoped>\n",
       "    .dataframe tbody tr th:only-of-type {\n",
       "        vertical-align: middle;\n",
       "    }\n",
       "\n",
       "    .dataframe tbody tr th {\n",
       "        vertical-align: top;\n",
       "    }\n",
       "\n",
       "    .dataframe thead th {\n",
       "        text-align: right;\n",
       "    }\n",
       "</style>\n",
       "<table border=\"1\" class=\"dataframe\">\n",
       "  <thead>\n",
       "    <tr style=\"text-align: right;\">\n",
       "      <th></th>\n",
       "      <th>0</th>\n",
       "      <th>1</th>\n",
       "      <th>2</th>\n",
       "      <th>3</th>\n",
       "      <th>4</th>\n",
       "      <th>5</th>\n",
       "    </tr>\n",
       "  </thead>\n",
       "  <tbody>\n",
       "    <tr>\n",
       "      <th>0</th>\n",
       "      <td>0.631505</td>\n",
       "      <td>0.022537</td>\n",
       "      <td>0.148438</td>\n",
       "      <td>0.0</td>\n",
       "      <td>0.0</td>\n",
       "      <td>1.0</td>\n",
       "    </tr>\n",
       "    <tr>\n",
       "      <th>1</th>\n",
       "      <td>0.538419</td>\n",
       "      <td>0.037090</td>\n",
       "      <td>0.109375</td>\n",
       "      <td>0.0</td>\n",
       "      <td>0.0</td>\n",
       "      <td>1.0</td>\n",
       "    </tr>\n",
       "    <tr>\n",
       "      <th>2</th>\n",
       "      <td>0.495586</td>\n",
       "      <td>0.017830</td>\n",
       "      <td>0.109375</td>\n",
       "      <td>0.0</td>\n",
       "      <td>0.0</td>\n",
       "      <td>1.0</td>\n",
       "    </tr>\n",
       "    <tr>\n",
       "      <th>3</th>\n",
       "      <td>0.504354</td>\n",
       "      <td>0.063563</td>\n",
       "      <td>0.109375</td>\n",
       "      <td>0.0</td>\n",
       "      <td>0.0</td>\n",
       "      <td>1.0</td>\n",
       "    </tr>\n",
       "    <tr>\n",
       "      <th>4</th>\n",
       "      <td>0.485364</td>\n",
       "      <td>0.018498</td>\n",
       "      <td>0.109375</td>\n",
       "      <td>0.0</td>\n",
       "      <td>0.0</td>\n",
       "      <td>1.0</td>\n",
       "    </tr>\n",
       "    <tr>\n",
       "      <th>...</th>\n",
       "      <td>...</td>\n",
       "      <td>...</td>\n",
       "      <td>...</td>\n",
       "      <td>...</td>\n",
       "      <td>...</td>\n",
       "      <td>...</td>\n",
       "    </tr>\n",
       "    <tr>\n",
       "      <th>835</th>\n",
       "      <td>0.637043</td>\n",
       "      <td>0.012120</td>\n",
       "      <td>0.109375</td>\n",
       "      <td>0.0</td>\n",
       "      <td>0.0</td>\n",
       "      <td>1.0</td>\n",
       "    </tr>\n",
       "    <tr>\n",
       "      <th>836</th>\n",
       "      <td>0.550707</td>\n",
       "      <td>0.033613</td>\n",
       "      <td>0.148438</td>\n",
       "      <td>0.0</td>\n",
       "      <td>0.0</td>\n",
       "      <td>1.0</td>\n",
       "    </tr>\n",
       "    <tr>\n",
       "      <th>837</th>\n",
       "      <td>0.362166</td>\n",
       "      <td>0.007180</td>\n",
       "      <td>0.127457</td>\n",
       "      <td>0.0</td>\n",
       "      <td>0.0</td>\n",
       "      <td>1.0</td>\n",
       "    </tr>\n",
       "    <tr>\n",
       "      <th>838</th>\n",
       "      <td>0.646225</td>\n",
       "      <td>0.022476</td>\n",
       "      <td>0.109375</td>\n",
       "      <td>0.0</td>\n",
       "      <td>0.0</td>\n",
       "      <td>1.0</td>\n",
       "    </tr>\n",
       "    <tr>\n",
       "      <th>839</th>\n",
       "      <td>0.672300</td>\n",
       "      <td>0.012427</td>\n",
       "      <td>0.138494</td>\n",
       "      <td>0.0</td>\n",
       "      <td>0.0</td>\n",
       "      <td>1.0</td>\n",
       "    </tr>\n",
       "  </tbody>\n",
       "</table>\n",
       "<p>840 rows × 6 columns</p>\n",
       "</div>"
      ],
      "text/plain": [
       "            0         1         2    3    4    5\n",
       "0    0.631505  0.022537  0.148438  0.0  0.0  1.0\n",
       "1    0.538419  0.037090  0.109375  0.0  0.0  1.0\n",
       "2    0.495586  0.017830  0.109375  0.0  0.0  1.0\n",
       "3    0.504354  0.063563  0.109375  0.0  0.0  1.0\n",
       "4    0.485364  0.018498  0.109375  0.0  0.0  1.0\n",
       "..        ...       ...       ...  ...  ...  ...\n",
       "835  0.637043  0.012120  0.109375  0.0  0.0  1.0\n",
       "836  0.550707  0.033613  0.148438  0.0  0.0  1.0\n",
       "837  0.362166  0.007180  0.127457  0.0  0.0  1.0\n",
       "838  0.646225  0.022476  0.109375  0.0  0.0  1.0\n",
       "839  0.672300  0.012427  0.138494  0.0  0.0  1.0\n",
       "\n",
       "[840 rows x 6 columns]"
      ]
     },
     "execution_count": 3,
     "metadata": {},
     "output_type": "execute_result"
    }
   ],
   "source": [
    "# cols => blink_score, move_score, silence, baby_cry, baby_laughter, is_sleeping\n",
    "data_df"
   ]
  },
  {
   "cell_type": "code",
   "execution_count": 4,
   "id": "81255f82-4a4a-4b4a-b498-9c4d6d469ca7",
   "metadata": {},
   "outputs": [],
   "source": [
    "# train-test_split\n",
    "from sklearn.model_selection import train_test_split\n",
    "\n",
    "X = data_df.iloc[:, :-1] # features\n",
    "y = data_df.iloc[:, -1] # label\n",
    "\n",
    "X_train, X_test, y_train, y_test = train_test_split(X, y, test_size=0.2, random_state=42)"
   ]
  },
  {
   "cell_type": "markdown",
   "id": "149af41e-4558-4ec5-9c06-c4ce8deb5e2a",
   "metadata": {},
   "source": [
    "## SVC "
   ]
  },
  {
   "cell_type": "code",
   "execution_count": 5,
   "id": "6db21bfe-edce-4faa-a157-0a113ab949e3",
   "metadata": {},
   "outputs": [
    {
     "name": "stdout",
     "output_type": "stream",
     "text": [
      "Test Accuracy: 0.8035714285714286\n",
      "모델 저장 완료\n"
     ]
    }
   ],
   "source": [
    "# Scikit-Learn SVC\n",
    "# rbf 커널\n",
    "\n",
    "from sklearn.svm import SVC\n",
    "\n",
    "svc_model_rbf = SVC(kernel='rbf')\n",
    "\n",
    "# 학습\n",
    "svc_model_rbf.fit(X_train, y_train)\n",
    "\n",
    "# acc 평가\n",
    "svc_model_rbf_accuracy = svc_model_rbf.score(X_test, y_test)\n",
    "print(\"Test Accuracy:\", svc_model_rbf_accuracy)\n",
    "\n",
    "# 모델 저장\n",
    "joblib.dump(svc_model_rbf,'models/svc_model_rbf.pkl')\n",
    "print('모델 저장 완료')"
   ]
  },
  {
   "cell_type": "code",
   "execution_count": 6,
   "id": "69fc7256-b629-4c8b-8d87-fd19cfd32147",
   "metadata": {},
   "outputs": [
    {
     "name": "stdout",
     "output_type": "stream",
     "text": [
      "Test Accuracy: 0.8095238095238095\n",
      "모델 저장 완료\n"
     ]
    }
   ],
   "source": [
    "# Scikit-Learn SVC\n",
    "# linear 커널\n",
    "\n",
    "from sklearn.svm import SVC\n",
    "\n",
    "svc_model_linear = SVC(kernel='linear')\n",
    "\n",
    "# 학습\n",
    "svc_model_linear.fit(X_train, y_train)\n",
    "\n",
    "# acc 평가\n",
    "svc_model_linear_accuracy = svc_model_linear.score(X_test, y_test)\n",
    "print(\"Test Accuracy:\", svc_model_linear_accuracy)\n",
    "\n",
    "# 모델 저장\n",
    "joblib.dump(svc_model_linear,'models/svc_model_linear.pkl')\n",
    "print('모델 저장 완료')"
   ]
  },
  {
   "cell_type": "code",
   "execution_count": 7,
   "id": "172a3a76-c762-4a5c-9352-48ddfa5eb816",
   "metadata": {},
   "outputs": [
    {
     "name": "stdout",
     "output_type": "stream",
     "text": [
      "Test Accuracy: 0.75\n",
      "모델 저장 완료\n"
     ]
    }
   ],
   "source": [
    "# Scikit-Learn SVC\n",
    "# Poly 커널\n",
    "\n",
    "from sklearn.svm import SVC\n",
    "\n",
    "svc_model_poly = SVC(kernel='poly')\n",
    "\n",
    "# 학습\n",
    "svc_model_poly.fit(X_train, y_train)\n",
    "\n",
    "# acc 평가\n",
    "svc_model_poly_accuracy = svc_model_poly.score(X_test, y_test)\n",
    "print(\"Test Accuracy:\", svc_model_poly_accuracy)\n",
    "\n",
    "# 모델 저장\n",
    "joblib.dump(svc_model_poly,'models/svc_model_poly.pkl')\n",
    "print('모델 저장 완료')"
   ]
  },
  {
   "cell_type": "markdown",
   "id": "0f37486c-c47e-4085-98f1-fe32d18d5a04",
   "metadata": {},
   "source": [
    "# XGBoost"
   ]
  },
  {
   "cell_type": "code",
   "execution_count": 8,
   "id": "f89fb489-b1db-418d-9558-6a719f8aa40f",
   "metadata": {},
   "outputs": [
    {
     "name": "stdout",
     "output_type": "stream",
     "text": [
      "Test Accuracy: 0.8809523809523809\n",
      "모델 저장 완료\n"
     ]
    }
   ],
   "source": [
    "# XGBoost \n",
    "\n",
    "import xgboost as xgb\n",
    "\n",
    "xgb_model = xgb.XGBClassifier()\n",
    "\n",
    "# 학습\n",
    "xgb_model.fit(X_train, y_train)\n",
    "\n",
    "# acc 평가\n",
    "xgb_accuracy = xgb_model.score(X_test, y_test)\n",
    "print(\"Test Accuracy:\", xgb_accuracy)\n",
    "\n",
    "# 모델 저장\n",
    "joblib.dump(xgb_model, 'models/xgb_model.pkl')\n",
    "print('모델 저장 완료')"
   ]
  },
  {
   "cell_type": "markdown",
   "id": "fc3487cf-2d59-44e6-bafb-fa0bbe1f67be",
   "metadata": {},
   "source": [
    "## LightGBM"
   ]
  },
  {
   "cell_type": "code",
   "execution_count": 9,
   "id": "f6821c9a-682b-4754-8e07-11234669310b",
   "metadata": {},
   "outputs": [
    {
     "name": "stdout",
     "output_type": "stream",
     "text": [
      "Test Accuracy: 0.875\n",
      "모델 저장 완료\n"
     ]
    }
   ],
   "source": [
    "# LightGBM\n",
    "\n",
    "from lightgbm import LGBMClassifier\n",
    "\n",
    "lgbm_model = LGBMClassifier()\n",
    "\n",
    "# 학습\n",
    "lgbm_model.fit(X_train, y_train)\n",
    "# [LightGBM] [Warning] No further splits with positive gain, best gain: -inf\n",
    "# => \n",
    "# 트리 기반 알고리즘 -> 분할이 불순도를 최소화하거나 정보 이득을 최대화하는 기준에 따라\n",
    "# 학습 과정 중에 양의 이득을 가진 추가적인 분할을 찾지 못함\n",
    "import IPython; IPython.display.clear_output()\n",
    "\n",
    "# acc 평가\n",
    "lgbm_accuracy = lgbm_model.score(X_test, y_test)\n",
    "print(\"Test Accuracy:\", lgbm_accuracy)\n",
    "\n",
    "# 모델 저장\n",
    "joblib.dump(lgbm_model, 'models/lgbm_model.pkl')\n",
    "print('모델 저장 완료')"
   ]
  },
  {
   "cell_type": "markdown",
   "id": "3567b652-98e5-4cdb-85a4-829536c9d392",
   "metadata": {},
   "source": [
    "## CatBoostClassifier"
   ]
  },
  {
   "cell_type": "code",
   "execution_count": 10,
   "id": "49ae7564-848e-41dd-9a95-da81a8f9201e",
   "metadata": {},
   "outputs": [
    {
     "name": "stdout",
     "output_type": "stream",
     "text": [
      "Test Accuracy: 0.8869047619047619\n",
      "모델 저장 완료.\n"
     ]
    }
   ],
   "source": [
    "# CatBoostClassifier\n",
    "\n",
    "from catboost import CatBoostClassifier\n",
    "\n",
    "catboost_model = CatBoostClassifier()\n",
    "\n",
    "# 학습\n",
    "catboost_model.fit(X_train, y_train)\n",
    "import IPython; IPython.display.clear_output()\n",
    "\n",
    "# acc 평가\n",
    "catboost_accuracy = catboost_model.score(X_test, y_test)\n",
    "print(\"Test Accuracy:\", catboost_accuracy)\n",
    "\n",
    "# 모델 저장\n",
    "joblib.dump(catboost_model, 'models/catboost_model.pkl')\n",
    "print('모델 저장 완료.')"
   ]
  },
  {
   "cell_type": "markdown",
   "id": "03db9269-f3d3-444f-9bff-8f4f70761584",
   "metadata": {},
   "source": [
    "# Visualization - No Hyperparams Tuning"
   ]
  },
  {
   "cell_type": "code",
   "execution_count": 11,
   "id": "52c58785-ee03-4059-abe6-4247d6302751",
   "metadata": {},
   "outputs": [
    {
     "data": {
      "image/png": "[encoded data removed]",
      "text/plain": [
       "<Figure size 1000x600 with 1 Axes>"
      ]
     },
     "metadata": {},
     "output_type": "display_data"
    }
   ],
   "source": [
    "# svc_model_rbf_accurary\n",
    "# svc_model_linear_accuracy\n",
    "# svc_model_poly_accuracy\n",
    "# xgb_accuracy\n",
    "# lgbm_accuracy\n",
    "# catboost_accuracy\n",
    "\n",
    "import matplotlib.pyplot as plt\n",
    "\n",
    "# 모델별 정확도\n",
    "accuracies = [svc_model_rbf_accuracy, svc_model_linear_accuracy, svc_model_poly_accuracy, xgb_accuracy, lgbm_accuracy, catboost_accuracy]\n",
    "models = ['SVC RBF', 'SVC Linear', 'SVC Poly', 'XGBoost', 'LightGBM', 'CatBoost']\n",
    "\n",
    "\n",
    "plt.figure(figsize=(10,6))\n",
    "\n",
    "# bar\n",
    "plt.bar(models, accuracies, color=['#888888', '#888888','#888888','#888888','#888888','#555555'], width=0.5)\n",
    "\n",
    "# 상자(border) 없애기\n",
    "plt.box(False)\n",
    "# 그래프 제목과 축 레이블\n",
    "plt.title('SMOTE OverSampled - Model Accuracies - No Hyperparams Tuning', fontsize=20)\n",
    "plt.xlabel('Models', fontsize=15)\n",
    "# y축 없이\n",
    "# plt.ylabel('Accuracy')\n",
    "\n",
    "# 그래프에 정확도 값 표시\n",
    "for i, v in enumerate(accuracies):\n",
    "    plt.text(i, v, str(round(v, 3)), ha='center', va='bottom', fontsize=15, color='#888888')\n",
    "\n",
    "# 그래프 출력\n",
    "plt.xticks(rotation=0, fontsize=12)\n",
    "# y축 없이\n",
    "# plt.yticks(fontsize=15)\n",
    "plt.yticks([])\n",
    "plt.tight_layout()\n",
    "plt.savefig('results_graph/smote_oversampled_data_model_accuracies_plt.png', dpi=300)\n",
    "plt.show()\n",
    "\n"
   ]
  }
 ],
 "metadata": {
  "kernelspec": {
   "display_name": "Python 3 (ipykernel)",
   "language": "python",
   "name": "python3"
  },
  "language_info": {
   "codemirror_mode": {
    "name": "ipython",
    "version": 3
   },
   "file_extension": ".py",
   "mimetype": "text/x-python",
   "name": "python",
   "nbconvert_exporter": "python",
   "pygments_lexer": "ipython3",
   "version": "3.8.10"
  }
 },
 "nbformat": 4,
 "nbformat_minor": 5
}

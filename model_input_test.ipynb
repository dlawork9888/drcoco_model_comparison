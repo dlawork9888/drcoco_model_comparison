{
 "cells": [
  {
   "cell_type": "code",
   "execution_count": 19,
   "id": "3b1110d8-31a4-4e8f-8b7a-6e86cb5c0450",
   "metadata": {},
   "outputs": [
    {
     "name": "stdout",
     "output_type": "stream",
     "text": [
      "models\\catboost_model.pkl\n",
      "[0.]\n",
      "models\\lgbm_model.pkl\n",
      "[0.]\n",
      "models\\svc_model_linear.pkl\n",
      "[0.]\n",
      "models\\svc_model_poly.pkl\n",
      "[0.]\n",
      "models\\svc_model_rbf.pkl\n",
      "[0.]\n",
      "models\\xgb_model.pkl\n",
      "[0]\n"
     ]
    },
    {
     "name": "stderr",
     "output_type": "stream",
     "text": [
      "C:\\flyai\\envs\\env_for_ml\\lib\\site-packages\\sklearn\\base.py:465: UserWarning: X does not have valid feature names, but SVC was fitted with feature names\n",
      "  warnings.warn(\n",
      "C:\\flyai\\envs\\env_for_ml\\lib\\site-packages\\sklearn\\base.py:465: UserWarning: X does not have valid feature names, but SVC was fitted with feature names\n",
      "  warnings.warn(\n",
      "C:\\flyai\\envs\\env_for_ml\\lib\\site-packages\\sklearn\\base.py:465: UserWarning: X does not have valid feature names, but SVC was fitted with feature names\n",
      "  warnings.warn(\n"
     ]
    }
   ],
   "source": [
    "import os\n",
    "import joblib\n",
    "import numpy as np\n",
    "\n",
    "# blink_score, move_score, silence, baby_cry, baby_laughter,\n",
    "test_data = np.array([[0.5, 0.5, 0.5, 0.5, 0.5]])\n",
    "\n",
    "for model in os.listdir('models'):\n",
    "    if model == '.ipynb_checkpoints': continue\n",
    "    model_path = os.path.join('models',model)\n",
    "    print(model_path)\n",
    "\n",
    "    # 모델 읽기\n",
    "    model = joblib.load(model_path)\n",
    "    # 예측 실행\n",
    "    print(model.predict(test_data))"
   ]
  },
  {
   "cell_type": "code",
   "execution_count": null,
   "id": "cbb7ee88-5596-45fe-928b-1ebef1c7ab4a",
   "metadata": {},
   "outputs": [],
   "source": []
  }
 ],
 "metadata": {
  "kernelspec": {
   "display_name": "Python 3 (ipykernel)",
   "language": "python",
   "name": "python3"
  },
  "language_info": {
   "codemirror_mode": {
    "name": "ipython",
    "version": 3
   },
   "file_extension": ".py",
   "mimetype": "text/x-python",
   "name": "python",
   "nbconvert_exporter": "python",
   "pygments_lexer": "ipython3",
   "version": "3.8.10"
  }
 },
 "nbformat": 4,
 "nbformat_minor": 5
}

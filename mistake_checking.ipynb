{
 "cells": [
  {
   "cell_type": "markdown",
   "id": "1d14892e-6504-4e54-b420-692649972f31",
   "metadata": {},
   "source": [
    "# Is there mistake?"
   ]
  },
  {
   "cell_type": "markdown",
   "id": "f4003894-8ca0-41ee-b59a-e69f1513aac7",
   "metadata": {},
   "source": [
    "## Data check"
   ]
  },
  {
   "cell_type": "code",
   "execution_count": 1,
   "id": "b5ce8c20-307e-44b5-b3eb-20e167b1b756",
   "metadata": {},
   "outputs": [
    {
     "name": "stdout",
     "output_type": "stream",
     "text": [
      "Differences between data_random_oversampled.csv and data_smote_oversampled.csv:\n",
      "            0                   1                   2          \n",
      "         self     other      self     other      self     other\n",
      "483  0.653761  0.548345  0.001881  0.035990  0.800781  0.140007\n",
      "484  0.361606  0.346583  0.003180  0.009142  0.148438  0.109375\n",
      "485  0.561980  0.476919  0.006154  0.001783  0.148438  0.194885\n",
      "486  0.642617  0.643069  0.031854  0.030681       NaN       NaN\n",
      "487  0.528349  0.681989  0.000445  0.003076  0.199219  0.800781\n",
      "..        ...       ...       ...       ...       ...       ...\n",
      "835  0.656996  0.637043  0.002908  0.012120  0.800781  0.109375\n",
      "836  0.631505  0.550707  0.022537  0.033613       NaN       NaN\n",
      "837  0.651348  0.362166  0.009156  0.007180  0.109375  0.127457\n",
      "838  0.531894  0.646225  0.002838  0.022476       NaN       NaN\n",
      "839  0.326502  0.672300  0.003188  0.012427  0.109375  0.138494\n",
      "\n",
      "[357 rows x 6 columns]\n",
      "Shape Mismatched between data_random_oversampled.csv and data_adasyn_oversampled.csv\n",
      "Shape Mismatched between data_smote_oversampled.csv and data_adasyn_oversampled.csv\n"
     ]
    }
   ],
   "source": [
    "# data_random_oversampled.csv\n",
    "# data_smote_oversampled.csv\n",
    "# data_adasyn_oversampled.csv\n",
    "# 세 가지 버전의 데이터 차이가 얼마나 되나?\n",
    "\n",
    "import pandas as pd\n",
    "\n",
    "file_paths = [\"data_random_oversampled.csv\", \"data_smote_oversampled.csv\", \"data_adasyn_oversampled.csv\"]\n",
    "\n",
    "data_frames = [pd.read_csv(file) for file in file_paths]\n",
    "\n",
    "# 데이터프레임 간 차이 계산\n",
    "for i in range(len(data_frames)):\n",
    "    for j in range(i+1, len(data_frames)):\n",
    "        df1 = data_frames[i]\n",
    "        df2 = data_frames[j]\n",
    "        if df1.shape == df2.shape:\n",
    "            diff = df1.compare(df2)  # 두 데이터프레임 간의 차이 계산\n",
    "            if not diff.empty:\n",
    "                print(f\"Differences between {file_paths[i]} and {file_paths[j]}:\")\n",
    "                print(diff)\n",
    "            else:\n",
    "                print(f\"No differences found between {file_paths[i]} and {file_paths[j]}\")\n",
    "        else:\n",
    "            print(f\"Shape Mismatched between {file_paths[i]} and {file_paths[j]}\")\n"
   ]
  }
 ],
 "metadata": {
  "kernelspec": {
   "display_name": "Python 3 (ipykernel)",
   "language": "python",
   "name": "python3"
  },
  "language_info": {
   "codemirror_mode": {
    "name": "ipython",
    "version": 3
   },
   "file_extension": ".py",
   "mimetype": "text/x-python",
   "name": "python",
   "nbconvert_exporter": "python",
   "pygments_lexer": "ipython3",
   "version": "3.8.10"
  }
 },
 "nbformat": 4,
 "nbformat_minor": 5
}
